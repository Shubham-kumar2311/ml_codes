{
 "cells": [
  {
   "cell_type": "code",
   "execution_count": 3,
   "id": "5d57e07d",
   "metadata": {},
   "outputs": [
    {
     "name": "stdout",
     "output_type": "stream",
     "text": [
      "112635 129176.66666666669\n",
      "67938 76239.00000000003\n",
      "113812 113408.0\n",
      "83088 80744.33333333334\n",
      "64445 57091.33333333335\n",
      "57189 62723.000000000015\n",
      "122391 137061.00000000003\n",
      "109431 119039.66666666669\n",
      "56957 66102.00000000001\n",
      "39343 33438.33333333334\n",
      "39891 45828.000000000015\n",
      "66029 78491.66666666669\n",
      "56642 53712.33333333334\n",
      "57081 67228.33333333334\n",
      "55794 66102.00000000001\n",
      "101302 110029.00000000003\n",
      "46205 35691.000000000015\n",
      "37731 37943.66666666668\n",
      "105582 122418.66666666669\n",
      "43525 43575.33333333334\n",
      "98273 101018.33333333334\n",
      "116969 128050.33333333334\n",
      "81363 87502.33333333334\n",
      "121872 139313.6666666667\n",
      "91738 97639.33333333334\n",
      "54445 57091.33333333335\n",
      "63218 64975.66666666668\n"
     ]
    }
   ],
   "source": [
    "import pandas as pd\n",
    "import numpy as np\n",
    "\n",
    "from sklearn.model_selection import train_test_split\n",
    "import os\n",
    "\n",
    "# 1. Load dataset\n",
    "df = pd.read_csv(\"salary_data.csv\")\n",
    "X = df[\"YearsExperience\"]\n",
    "y = df[\"Salary\"]\n",
    "\n",
    "X_train, X_test, y_train, y_test = train_test_split(\n",
    "        X, y, train_size=10/100, random_state=42\n",
    "    )\n",
    "\n",
    "import statsmodels.api as sm\n",
    "\n",
    "# Add intercept column\n",
    "X_train_sm = sm.add_constant(X_train)\n",
    "\n",
    "# Fit OLS model\n",
    "model = sm.OLS(y_train, X_train_sm).fit()\n",
    "\n",
    "# Predictions\n",
    "X_test_sm = sm.add_constant(X_test)\n",
    "y_train_pred = model.predict(X_train_sm)\n",
    "y_test_pred = model.predict(X_test_sm)\n",
    "\n",
    "for i,j in zip(y_test,y_test_pred):\n",
    "    print(i,j)\n",
    "\n"
   ]
  },
  {
   "cell_type": "code",
   "execution_count": null,
   "id": "da351cf9",
   "metadata": {},
   "outputs": [
    {
     "name": "stdout",
     "output_type": "stream",
     "text": [
      "112635 141813.4417417039\n",
      "67938 76474.5286004812\n",
      "113812 122350.78676346733\n",
      "83088 82035.28716569162\n",
      "64445 52841.30469833681\n",
      "57189 59792.25290484987\n",
      "122391 151544.7692308222\n",
      "109431 129301.73496998039\n",
      "56957 63962.8218287577\n",
      "39343 23647.322230981983\n",
      "39891 38939.4082853107\n",
      "66029 79254.9078830864\n",
      "56642 48670.73577442898\n",
      "57081 65353.0114700603\n",
      "55794 63962.8218287577\n",
      "101302 118180.21783955951\n",
      "46205 26427.701513587206\n",
      "37731 29208.080796192422\n",
      "105582 133472.30389388825\n",
      "43525 36159.02900270548\n",
      "98273 107058.70070913862\n",
      "116969 140423.2521004013\n",
      "81363 90376.4250135073\n",
      "121872 154325.1485134274\n",
      "91738 102888.13178523078\n",
      "54445 52841.30469833681\n",
      "63218 62572.632187455085\n"
     ]
    },
    {
     "name": "stderr",
     "output_type": "stream",
     "text": [
      "C:\\Users\\DEll\\AppData\\Roaming\\Python\\Python313\\site-packages\\sklearn\\linear_model\\_stochastic_gradient.py:1608: ConvergenceWarning: Maximum number of iteration reached before convergence. Consider increasing max_iter to improve the fit.\n",
      "  warnings.warn(\n"
     ]
    }
   ],
   "source": [
    "import pandas as pd\n",
    "import numpy as np\n",
    "from sklearn.model_selection import train_test_split\n",
    "from sklearn.linear_model import SGDRegressor\n",
    "\n",
    "# 1. Load dataset\n",
    "df = pd.read_csv(\"salary_data.csv\")\n",
    "X = df[[\"YearsExperience\"]].values   # must be 2D\n",
    "y = df[\"Salary\"].values\n",
    "\n",
    "X_train, X_test, y_train, y_test = train_test_split(\n",
    "    X, y, train_size=10/100, random_state=42\n",
    ")\n",
    "\n",
    "# Fit using SGD (Gradient Descent)\n",
    "model = SGDRegressor(max_iter=1000, tol=1e-3, learning_rate=\"constant\", eta0=0.01, random_state=42)\n",
    "model.fit(X_train, y_train)\n",
    "\n",
    "# Predictions\n",
    "y_train_pred = model.predict(X_train) \n",
    "y_test_pred = model.predict(X_test)\n",
    "\n",
    "# Print actual vs predicted\n",
    "for i, j in zip(y_test, y_test_pred):\n",
    "    print(i, j)\n"
   ]
  },
  {
   "cell_type": "code",
   "execution_count": null,
   "id": "61884e04",
   "metadata": {},
   "outputs": [],
   "source": []
  }
 ],
 "metadata": {
  "kernelspec": {
   "display_name": "Python 3",
   "language": "python",
   "name": "python3"
  },
  "language_info": {
   "codemirror_mode": {
    "name": "ipython",
    "version": 3
   },
   "file_extension": ".py",
   "mimetype": "text/x-python",
   "name": "python",
   "nbconvert_exporter": "python",
   "pygments_lexer": "ipython3",
   "version": "3.13.0"
  }
 },
 "nbformat": 4,
 "nbformat_minor": 5
}
