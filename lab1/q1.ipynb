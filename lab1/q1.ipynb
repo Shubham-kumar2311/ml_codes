{
 "cells": [
  {
   "cell_type": "code",
   "execution_count": 3,
   "id": "392e4f32",
   "metadata": {},
   "outputs": [],
   "source": [
    "import pandas as pd\n",
    "import numpy as np\n",
    "import matplotlib.pyplot as plt"
   ]
  },
  {
   "cell_type": "code",
   "execution_count": 4,
   "id": "fddab7d4",
   "metadata": {},
   "outputs": [
    {
     "name": "stdout",
     "output_type": "stream",
     "text": [
      "Total patterns:  30\n",
      "Total feature:  1\n",
      "Range:  37731 - 122391\n"
     ]
    }
   ],
   "source": [
    "df = pd.read_csv(\"salary_data.csv\")\n",
    "\n",
    "total_patterns = df.shape[0]\n",
    "print(\"Total patterns: \" , total_patterns)\n",
    "\n",
    "total_features = df.shape[1]-1\n",
    "print(\"Total feature: \" , total_features)\n",
    "\n",
    "print(\"Range: \" , df[\"Salary\"].min() , \"-\" , df[\"Salary\"].max())\n"
   ]
  },
  {
   "cell_type": "code",
   "execution_count": 5,
   "id": "145182f1",
   "metadata": {},
   "outputs": [
    {
     "data": {
      "image/png": "[encoded data removed]",
      "text/plain": [
       "<Figure size 640x480 with 1 Axes>"
      ]
     },
     "metadata": {},
     "output_type": "display_data"
    }
   ],
   "source": [
    "plt.xlabel(\"OYE (Independent Variable)\")\n",
    "plt.ylabel(\"Salary (Dependent Variable)\")\n",
    "plt.scatter(df['YearsExperience'], df['Salary'])\n",
    "plt.show()"
   ]
  },
  {
   "cell_type": "code",
   "execution_count": 4,
   "id": "901d194b",
   "metadata": {},
   "outputs": [
    {
     "name": "stdout",
     "output_type": "stream",
     "text": [
      "Size of set1: 3 , size of set2: 27\n",
      "Size of set1: 6 , size of set2: 24\n",
      "Size of set1: 9 , size of set2: 21\n",
      "Size of set1: 12 , size of set2: 18\n",
      "Size of set1: 15 , size of set2: 15\n",
      "Size of set1: 18 , size of set2: 12\n",
      "Size of set1: 21 , size of set2: 9\n",
      "Size of set1: 24 , size of set2: 6\n",
      "Size of set1: 27 , size of set2: 3\n",
      "Next..\n",
      "Size of set1: 27 , size of set2: 3\n",
      "Size of set1: 24 , size of set2: 6\n",
      "Size of set1: 21 , size of set2: 9\n",
      "Size of set1: 18 , size of set2: 12\n",
      "Size of set1: 15 , size of set2: 15\n",
      "Size of set1: 12 , size of set2: 18\n",
      "Size of set1: 9 , size of set2: 21\n",
      "Size of set1: 6 , size of set2: 24\n",
      "Size of set1: 3 , size of set2: 27\n"
     ]
    }
   ],
   "source": [
    "indices = range(total_patterns)\n",
    "\n",
    "X_data = df[\"YearsExperience\"]\n",
    "Y_data = df[\"Salary\"]\n",
    "\n",
    "set1 = []\n",
    "set2 = []\n",
    "\n",
    "np.random.permutation(indices)\n",
    "\n",
    "size = 10\n",
    "while size <= 90:\n",
    "    set1 = []\n",
    "    set2 = []\n",
    "    for idx in indices:\n",
    "        if len(set1) < total_patterns * size / 100:\n",
    "            set1.append((X_data[idx] , Y_data[idx]))\n",
    "        else:\n",
    "            set2.append((X_data[idx] , Y_data[idx]))\n",
    "    size += 10\n",
    "\n",
    "    print(\"Size of set1:\" , len(set1) , \", size of set2:\" , len(set2))\n",
    "\n",
    "print(\"Next..\")\n",
    "\n",
    "size = 90\n",
    "while size >= 10:\n",
    "    set1 = []\n",
    "    set2 = []\n",
    "    for idx in indices:\n",
    "        if len(set1) < total_patterns * size / 100:\n",
    "            set1.append((X_data[idx] , Y_data[idx]))\n",
    "        else:\n",
    "            set2.append((X_data[idx] , Y_data[idx]))\n",
    "    size -= 10\n",
    "\n",
    "    print(\"Size of set1:\" , len(set1) , \", size of set2:\" , len(set2))"
   ]
  },
  {
   "cell_type": "code",
   "execution_count": null,
   "id": "fd4de00b",
   "metadata": {},
   "outputs": [
    {
     "name": "stdout",
     "output_type": "stream",
     "text": [
      "Standard Deviation of Salary: 27414.4297845823\n",
      "Standard Deviation of Experience: 2.8378881576627184\n",
      "Variance of Salary: 751550960.4137931\n",
      "Variance of Experience: 8.053609195402299\n",
      "Covariance between Salary and Experience: 76106.30344827585\n"
     ]
    }
   ],
   "source": [
    "salary_std = df['Salary'].std()\n",
    "exp_std = df['YearsExperience'].std()\n",
    "\n",
    "salary_var = df['Salary'].var()\n",
    "exp_var = df['YearsExperience'].var()\n",
    " \n",
    "salary_exp_cov = df['Salary'].cov(df['YearsExperience'])\n",
    "\n",
    "print(\"Standard Deviation of Salary:\", salary_std)\n",
    "print(\"Standard Deviation of Experience:\", exp_std)\n",
    "print(\"Variance of Salary:\", salary_var)\n",
    "print(\"Variance of Experience:\", exp_var)\n",
    "print(\"Covariance between Salary and Experience:\", salary_exp_cov)"
   ]
  },
  {
   "cell_type": "code",
   "execution_count": 6,
   "id": "e915db1b",
   "metadata": {},
   "outputs": [
    {
     "name": "stdout",
     "output_type": "stream",
     "text": [
      "Correlation is: 0.9782416184887598\n",
      "Correlation by inbuilt is: 0.9782416184887599\n"
     ]
    }
   ],
   "source": [
    "#rₓᵧ = [ Σ (Xᵢ − X̄)(Yᵢ − Ȳ) ] / [ √( Σ (Xᵢ − X̄)² ) × √( Σ (Yᵢ − Ȳ)² ) ]\n",
    "x_mean = X_data.mean()\n",
    "y_mean = Y_data.mean()\n",
    "\n",
    "#[ Σ (Xᵢ − X̄)(Yᵢ − Ȳ) ]\n",
    "numerator = 0\n",
    "for idx in range(total_patterns):\n",
    "    numerator += (X_data[idx] - x_mean) * (Y_data[idx] - y_mean)\n",
    "\n",
    "# √( Σ (Xᵢ − X̄)² )\n",
    "std_x = 0\n",
    "for x in X_data:\n",
    "    std_x += (x - x_mean) **2\n",
    "std_x = std_x ** (1/2)\n",
    "\n",
    "# √( Σ (Yᵢ − Ȳ)² )\n",
    "std_y = 0\n",
    "for y in Y_data:\n",
    "    std_y += (y - y_mean) **2\n",
    "std_y = std_y ** (1/2)\n",
    "\n",
    "correlation = numerator / (std_x * std_y)\n",
    "\n",
    "print(\"Correlation is:\" , correlation)\n",
    "exp_std = df['YearsExperience'].std()\n",
    "print(\"Correlation by inbuilt is:\" , salary_exp_cov / (salary_std * exp_std))\n"
   ]
  },
  {
   "cell_type": "code",
   "execution_count": null,
   "id": "de90826f",
   "metadata": {},
   "outputs": [],
   "source": []
  }
 ],
 "metadata": {
  "kernelspec": {
   "display_name": "Python 3",
   "language": "python",
   "name": "python3"
  },
  "language_info": {
   "codemirror_mode": {
    "name": "ipython",
    "version": 3
   },
   "file_extension": ".py",
   "mimetype": "text/x-python",
   "name": "python",
   "nbconvert_exporter": "python",
   "pygments_lexer": "ipython3",
   "version": "3.13.0"
  }
 },
 "nbformat": 4,
 "nbformat_minor": 5
}
